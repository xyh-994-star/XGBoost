{
 "cells": [
  {
   "cell_type": "code",
   "execution_count": null,
   "id": "f5676dce",
   "metadata": {},
   "outputs": [],
   "source": [
    "import pandas as pd\n",
    "import numpy as np\n",
    "import xgboost as xgb\n",
    "from sklearn.model_selection import KFold, RandomizedSearchCV\n",
    "from sklearn.metrics import mean_squared_error, r2_score\n",
    "from sklearn.preprocessing import MinMaxScaler\n",
    "import shap  \n",
    "\n",
    "datasets = []\n",
    "best_parameters = []\n",
    "r2_scores = []\n",
    "rmse_scores = []\n",
    "results_data = pd.DataFrame()\n",
    "data = pd.read_excel('../parameter.xlsx')\n",
    "data = data.dropna(subset=['parameter'])\n",
    "X = data.drop('parameter', axis=1)\n",
    "y = data['parameter']\n",
    "scaler = MinMaxScaler()\n",
    "X_scaled = scaler.fit_transform(X)\n",
    "\n",
    "param_dist = {\n",
    "    'n_estimators': randint(100, 1000),\n",
    "    'max_depth': randint(3, 10),\n",
    "    'learning_rate': uniform(0.01, 0.1),\n",
    "    'subsample': uniform(0.7, 0.3),\n",
    "    'min_child_weight': randint(1, 10),\n",
    "    'colsample_bytree': uniform(0.7, 0.3),\n",
    "    'reg_alpha': [0, 0.01, 0.1, 1],\n",
    "    'reg_lambda': [0.01, 0.1, 1, 10]\n",
    "}\n",
    "\n",
    "model = xgb.XGBRegressor(objective='reg:squarederror', gpu_id=0)\n",
    "kf = KFold(n_splits=10, shuffle=True, random_state=120)\n",
    "random_search = RandomizedSearchCV(model, param_distributions=param_dist, n_iter=100, cv=kf, verbose=2, random_state=120, n_jobs=-1)\n",
    "random_search.fit(X_scaled, y)\n",
    "best_model = random_search.best_estimator_\n",
    "best_params = random_search.best_params_\n",
    "\n",
    "for train_index, test_index in kf.split(X_scaled):\n",
    "    X_train, X_test = X_scaled[train_index], X_scaled[test_index]\n",
    "    y_train, y_test = y.iloc[train_index], y.iloc[test_index]\n",
    "    best_model.fit(X_train, y_train)\n"
   ]
  }
 ],
 "metadata": {
  "kernelspec": {
   "display_name": "Pytorch",
   "language": "python",
   "name": "pytorch"
  },
  "language_info": {
   "codemirror_mode": {
    "name": "ipython",
    "version": 3
   },
   "file_extension": ".py",
   "mimetype": "text/x-python",
   "name": "python",
   "nbconvert_exporter": "python",
   "pygments_lexer": "ipython3",
   "version": "3.9.16"
  }
 },
 "nbformat": 4,
 "nbformat_minor": 5
}
